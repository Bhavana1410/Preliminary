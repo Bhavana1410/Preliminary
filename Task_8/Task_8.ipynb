{
 "cells": [
  {
   "cell_type": "code",
   "execution_count": 1,
   "id": "0d5bd103",
   "metadata": {},
   "outputs": [
    {
     "name": "stdout",
     "output_type": "stream",
     "text": [
      "[10.  0.  0.  0.  0.  0. 11.  0.  0.  0.  0.  0. 12.  0.  0.  0.  0.  0.\n",
      " 13.  0.  0.  0.  0.  0. 14.]\n"
     ]
    }
   ],
   "source": [
    "# Problem 1\n",
    "\n",
    "import numpy as np\n",
    "\n",
    "k = [10, 11, 12, 13, 14]\n",
    "z = np.zeros(25)\n",
    "\n",
    "z[0] = 10\n",
    "z[6] = 11\n",
    "z[12] = 12\n",
    "z[18] = 13\n",
    "z[24] = 14\n",
    "\n",
    "print(z)\n"
   ]
  },
  {
   "cell_type": "code",
   "execution_count": 2,
   "id": "9c3a62c8",
   "metadata": {},
   "outputs": [
    {
     "name": "stdout",
     "output_type": "stream",
     "text": [
      "Enter the length of the arrays6\n",
      "Enter first array elements\n",
      "1\n",
      "2\n",
      "3\n",
      "4\n",
      "5\n",
      "6\n",
      "Enter second array elements\n",
      "9\n",
      "8\n",
      "7\n",
      "6\n",
      "5\n",
      "0\n",
      "Array A == [1 2 3 4 5 6] \n",
      "Array B == [9 8 7 6 5 0]\n",
      "False\n",
      "Array A == [[9 8 5 9 5]] \n",
      "Array B == [[4 5 9 3 9]]\n",
      "False\n"
     ]
    }
   ],
   "source": [
    "import numpy as np\n",
    "\n",
    "a = []\n",
    "b = []\n",
    "\n",
    "L = int(input(\"Enter the length of the arrays\"))\n",
    "\n",
    "print(\"Enter first array elements\")\n",
    "for i in range(0, L):\n",
    "    value = int(input())\n",
    "    a.append(value)\n",
    "\n",
    "print(\"Enter second array elements\")\n",
    "for i in range(0, L):\n",
    "    value = int(input())\n",
    "    b.append(value)\n",
    "\n",
    "A = np.array(a)\n",
    "B = np.array(b)\n",
    "\n",
    "print(\"Array A ==\", A, \"\\nArray B ==\", B)\n",
    "# Returns True if arrays are equal, False if arrays are not equal\n",
    "print(np.array_equal(A, B))\n",
    "\n",
    "\n",
    "\n",
    "# Generating Random arrays\n",
    "A = np.random.randint(1,10,size=(1,5))\n",
    "B = np.random.randint(1,10,size=(1,5))\n",
    "print(\"Array A ==\", A, \"\\nArray B ==\", B)\n",
    "# Returns True if arrays are equal, False if arrays are not equal\n",
    "print(np.array_equal(A, B))\n",
    "\n"
   ]
  },
  {
   "cell_type": "code",
   "execution_count": 3,
   "id": "7be70dee",
   "metadata": {},
   "outputs": [
    {
     "name": "stdout",
     "output_type": "stream",
     "text": [
      "nan\n",
      "True\n",
      "False\n",
      "nan\n",
      "False\n"
     ]
    }
   ],
   "source": [
    "# Problem 3\n",
    "\n",
    "import numpy as np\n",
    "\n",
    "print(0 * np.nan)\n",
    "print(np.nan != np.nan)\n",
    "print(np.inf > np.nan)\n",
    "print(np.nan - np.nan)\n",
    "print(0.3 == 3 * 0.1)"
   ]
  },
  {
   "cell_type": "code",
   "execution_count": 4,
   "id": "2805bb39",
   "metadata": {},
   "outputs": [
    {
     "name": "stdout",
     "output_type": "stream",
     "text": [
      "0         amrita\n",
      "1         school\n",
      "2             of\n",
      "3    engineering\n",
      "4        chennai\n",
      "5         campus\n",
      "dtype: object\n",
      "0         Amrita\n",
      "1         School\n",
      "2             Of\n",
      "3    Engineering\n",
      "4        Chennai\n",
      "5         Campus\n",
      "dtype: object\n",
      "Amrita School Of Engineering Chennai Campus\n"
     ]
    }
   ],
   "source": [
    "# Problem 4\n",
    "\n",
    "import pandas as pd\n",
    "import numpy as np\n",
    "\n",
    "ser = pd.Series(['amrita', 'school', 'of', 'engineering', 'chennai', 'campus'])\n",
    "newSeries = ser.map(lambda x: x[0].upper() + x[1:-1] + x[-1])\n",
    "\n",
    "print(ser)\n",
    "print(newSeries)\n",
    "\n",
    "a = np.array(newSeries)\n",
    "print(*a, sep= ' ')\n"
   ]
  },
  {
   "cell_type": "code",
   "execution_count": 5,
   "id": "d8ab348f",
   "metadata": {},
   "outputs": [
    {
     "name": "stdout",
     "output_type": "stream",
     "text": [
      "1st array :  [9 2 7]\n",
      "2nd array :  [2 5 4]\n",
      "Sum of the above arrays is :  [11  7 11]\n",
      "\n",
      "m1: [[1 4 7]\n",
      " [2 5 8]] \n",
      "\n",
      "m2: [[1 4]\n",
      " [2 5]\n",
      " [3 6]]\n",
      "\n",
      "m1*m2 = [[30 66]\n",
      " [36 81]]\n",
      "\n",
      "m1: ([1, 6, 5], [3, 4, 8], [2, 12, 3]) \n",
      "\n",
      "m2: ([3, 4, 6], [5, 6, 7], [6, 56, 7])\n",
      "\n",
      "m1*m2 = [[ 63 320  83]\n",
      " [ 77 484 102]\n",
      " [ 84 248 117]]\n"
     ]
    }
   ],
   "source": [
    "# Problem 5\n",
    "\n",
    "import numpy as np\n",
    "\n",
    "# Addition of arrays\n",
    "A = np.array([9, 2, 7])\n",
    "B = np.array([2, 5, 4])\n",
    "\n",
    "print(\"1st array : \", A)\n",
    "print(\"2nd array : \", B)\n",
    "\n",
    "result = np.add(A, B)\n",
    "print(\"Sum of the above arrays is : \", result)\n",
    "\n",
    "# Multiplication of Matrices\n",
    "# 2D arrays\n",
    "m1 = np.array([[1, 4, 7], [2, 5, 8]])\n",
    "m2 = np.array([[1, 4], [2, 5], [3, 6]])\n",
    "print(\"\\nm1:\", m1, \"\\n\\nm2:\", m2)\n",
    "m3 = np.dot(m1, m2)\n",
    "print(\"\\nm1*m2 =\", m3)\n",
    "\n",
    "# 3D arrays\n",
    "m1 = ([1, 6, 5], [3, 4, 8], [2, 12, 3])\n",
    "m2 = ([3, 4, 6], [5, 6, 7], [6, 56, 7])\n",
    "print(\"\\nm1:\", m1, \"\\n\\nm2:\", m2)\n",
    "m3 = np.dot(m1, m2)\n",
    "print(\"\\nm1*m2 =\", m3)"
   ]
  },
  {
   "cell_type": "code",
   "execution_count": null,
   "id": "7e8e55ed",
   "metadata": {},
   "outputs": [],
   "source": []
  }
 ],
 "metadata": {
  "kernelspec": {
   "display_name": "Python 3 (ipykernel)",
   "language": "python",
   "name": "python3"
  },
  "language_info": {
   "codemirror_mode": {
    "name": "ipython",
    "version": 3
   },
   "file_extension": ".py",
   "mimetype": "text/x-python",
   "name": "python",
   "nbconvert_exporter": "python",
   "pygments_lexer": "ipython3",
   "version": "3.9.7"
  }
 },
 "nbformat": 4,
 "nbformat_minor": 5
}
